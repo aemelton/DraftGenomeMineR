{
 "cells": [
  {
   "cell_type": "markdown",
   "metadata": {},
   "source": [
    "# PCA of Sagebrush Promoter Data"
   ]
  },
  {
   "cell_type": "code",
   "execution_count": 1,
   "metadata": {},
   "outputs": [],
   "source": [
    "using CSV, DataFrames, LinearAlgebra, Plots, Clustering, Distances, Statistics"
   ]
  },
  {
   "cell_type": "code",
   "execution_count": 10,
   "metadata": {},
   "outputs": [
    {
     "data": {
      "text/plain": [
       "\"/Users/jimbeck/Desktop/vip-g2p-buerki-and-melton/Data/Sagebrush_Promoter/promoter_catCount_by_Scaff.csv\""
      ]
     },
     "execution_count": 10,
     "metadata": {},
     "output_type": "execute_result"
    }
   ],
   "source": [
    "path = \"/Users/jimbeck/Desktop/vip-g2p-buerki-and-melton/Data/Sagebrush_Promoter/\"\n",
    "file = \"promoter_catCount_by_Scaff.csv\"\n",
    "cat_count_file₁ = joinpath(path,file)"
   ]
  },
  {
   "cell_type": "code",
   "execution_count": 9,
   "metadata": {},
   "outputs": [
    {
     "data": {
      "text/plain": [
       "\"/Users/jimbeck/Desktop/vip-g2p-buerki-and-melton/Code\""
      ]
     },
     "execution_count": 9,
     "metadata": {},
     "output_type": "execute_result"
    }
   ],
   "source": [
    "pwd()"
   ]
  },
  {
   "cell_type": "code",
   "execution_count": 11,
   "metadata": {},
   "outputs": [
    {
     "ename": "LoadError",
     "evalue": "ArgumentError: \"promoter_catCount_by_Scaff.csv\" is not a valid file",
     "output_type": "error",
     "traceback": [
      "ArgumentError: \"promoter_catCount_by_Scaff.csv\" is not a valid file",
      "",
      "Stacktrace:",
      " [1] CSV.Header(source::String, header::Int64, normalizenames::Bool, datarow::Int64, skipto::Nothing, footerskip::Int64, transpose::Bool, comment::Nothing, use_mmap::Nothing, ignoreemptylines::Bool, select::Nothing, drop::Nothing, missingstrings::Vector{String}, missingstring::String, delim::Nothing, ignorerepeated::Bool, quotechar::Char, openquotechar::Nothing, closequotechar::Nothing, escapechar::Char, dateformat::Nothing, dateformats::Nothing, decimal::UInt8, truestrings::Vector{String}, falsestrings::Vector{String}, type::Nothing, types::Nothing, typemap::Dict{Type, Type}, categorical::Nothing, pool::Float64, lazystrings::Bool, strict::Bool, silencewarnings::Bool, debug::Bool, parsingdebug::Bool, streaming::Bool)",
      "   @ CSV ~/.julia/packages/CSV/MKemC/src/header.jl:92",
      " [2] CSV.File(source::String; header::Int64, normalizenames::Bool, datarow::Int64, skipto::Nothing, footerskip::Int64, transpose::Bool, comment::Nothing, use_mmap::Nothing, ignoreemptylines::Bool, select::Nothing, drop::Nothing, missingstrings::Vector{String}, missingstring::String, delim::Nothing, ignorerepeated::Bool, quotechar::Char, openquotechar::Nothing, closequotechar::Nothing, escapechar::Char, dateformat::Nothing, dateformats::Nothing, decimal::UInt8, truestrings::Vector{String}, falsestrings::Vector{String}, type::Nothing, types::Nothing, typemap::Dict{Type, Type}, categorical::Nothing, pool::Float64, lazystrings::Bool, strict::Bool, silencewarnings::Bool, debug::Bool, parsingdebug::Bool, kw::Base.Iterators.Pairs{Union{}, Union{}, Tuple{}, NamedTuple{(), Tuple{}}})",
      "   @ CSV ~/.julia/packages/CSV/MKemC/src/file.jl:216",
      " [3] top-level scope",
      "   @ In[11]:2",
      " [4] eval",
      "   @ ./boot.jl:360 [inlined]",
      " [5] include_string(mapexpr::typeof(REPL.softscope), mod::Module, code::String, filename::String)",
      "   @ Base ./loading.jl:1094"
     ]
    }
   ],
   "source": [
    "#cat_data = CSV.File(cat_count_file₁; transpose=true, normalizenames=true);\n",
    "df = DataFrame(CSV.File(file; transpose=true, normalizenames=true))"
   ]
  },
  {
   "cell_type": "markdown",
   "metadata": {},
   "source": [
    "## Put into DataFrame"
   ]
  },
  {
   "cell_type": "code",
   "execution_count": null,
   "metadata": {},
   "outputs": [],
   "source": [
    "df₁ = DataFrame(cat_data);"
   ]
  },
  {
   "cell_type": "markdown",
   "metadata": {},
   "source": [
    "## Make names for grouping"
   ]
  },
  {
   "cell_type": "code",
   "execution_count": null,
   "metadata": {},
   "outputs": [],
   "source": [
    "rename!(df₁, :water_stress => :σ_water, \n",
    "    :temperature_stress => :σ_temp, :stress_hormone => :σ_hormone,:other_stress => :σ_other);"
   ]
  },
  {
   "cell_type": "code",
   "execution_count": null,
   "metadata": {},
   "outputs": [],
   "source": [
    "split_names = split.(df₁[:,1],\"_\");\n",
    "number_of_scaffolds = length(split_names)\n",
    "\n",
    "scaffold_names = []\n",
    "gene_names = []\n",
    "gene_type = []\n",
    "gene_category = []\n",
    "\n",
    "for i ∈ 1:number_of_scaffolds\n",
    "    values = split_names[i,:][1]\n",
    "    push!(scaffold_names, values[1])\n",
    "    push!(gene_names, values[2])\n",
    "    push!(gene_category, values[2][1:3])\n",
    "    if length(values[2]) > 3\n",
    "        push!(gene_type, values[2][1:4])\n",
    "    else\n",
    "        push!(gene_type, values[2][1:3])\n",
    "    end\n",
    "end"
   ]
  },
  {
   "cell_type": "code",
   "execution_count": null,
   "metadata": {},
   "outputs": [],
   "source": [
    "df₁.scaffolds = scaffold_names;\n",
    "df₁.genes = gene_names;\n",
    "df₁.gene_type = gene_type;\n",
    "df₁.gene_category = gene_category;"
   ]
  },
  {
   "cell_type": "markdown",
   "metadata": {},
   "source": [
    "## Basic Information"
   ]
  },
  {
   "cell_type": "code",
   "execution_count": null,
   "metadata": {
    "scrolled": true
   },
   "outputs": [],
   "source": [
    "names(df₁)"
   ]
  },
  {
   "cell_type": "code",
   "execution_count": null,
   "metadata": {
    "scrolled": false
   },
   "outputs": [],
   "source": [
    "showall(df₁)"
   ]
  },
  {
   "cell_type": "markdown",
   "metadata": {},
   "source": [
    "## SVD"
   ]
  },
  {
   "cell_type": "markdown",
   "metadata": {},
   "source": [
    "### Count Data"
   ]
  },
  {
   "cell_type": "markdown",
   "metadata": {},
   "source": [
    "## Methods"
   ]
  },
  {
   "cell_type": "markdown",
   "metadata": {},
   "source": [
    "We implemented a singular value decomposition of the Sagebrush Promoter gene scaffolds to discern their organization according to various principle components within the decomponsition. The first principle component  explains approximatley 72% of the data's variation and is heavily weighted towards light induced stress. The second principle component explains approximately 7.5% of the variation and is weighted towards the ABA stress hormone and water stresses. Categorization of the scaffolds shows the organization of NIPs, PIPs and TIPs to address different combinations of light, ABA and water stresses.\n",
    "\n",
    "Additionally, we ran a k-means clustering analysis (with k = 9) on the raw promoter data and then overlayed these clusters upon principle components (1 and 2) to visualize clustering of promotors and the clusters relationships to the principle component projections. This overlay seems to reinforce the notion that clusters of different promotors are collaborating to address the stresses driven by each of the principle components - with principle component one primarily motivated by light stress and principle component two primarily related to ABA hormone and water stress."
   ]
  },
  {
   "cell_type": "code",
   "execution_count": null,
   "metadata": {},
   "outputs": [],
   "source": [
    "matrix₁ = convert(Array{Float64},df₁[:,2:8]);"
   ]
  },
  {
   "cell_type": "code",
   "execution_count": null,
   "metadata": {},
   "outputs": [],
   "source": [
    "F₁ = svd(matrix₁);"
   ]
  },
  {
   "cell_type": "code",
   "execution_count": null,
   "metadata": {},
   "outputs": [],
   "source": [
    "F₁.U;"
   ]
  },
  {
   "cell_type": "code",
   "execution_count": null,
   "metadata": {},
   "outputs": [],
   "source": [
    "F₁.S;"
   ]
  },
  {
   "cell_type": "code",
   "execution_count": null,
   "metadata": {},
   "outputs": [],
   "source": [
    "percent_explained₁ = []\n",
    "total = sum(F₁.S)\n",
    "for i ∈ 1:length(F₁.S)\n",
    "    push!(percent_explained₁,F₁.S[i]/total*100)\n",
    "end\n",
    "percent_explained₁"
   ]
  },
  {
   "cell_type": "code",
   "execution_count": null,
   "metadata": {
    "scrolled": false
   },
   "outputs": [],
   "source": [
    "describe(df₁[:,2:8])"
   ]
  },
  {
   "cell_type": "markdown",
   "metadata": {},
   "source": [
    "### 𝑉  - Table with columns of Principle Component Recipes \n",
    "---\n",
    "PC1 to PC7 in columns 1 to 7, each with an associated value attributed to the above numbered variables)\n",
    "\n",
    "For example, PC1 is comprised of 0.789098 parts of the light vector and 0.359209 parts of the ABA vector ...\n",
    "\n",
    "Since these are vectors in space, we could invert them to use positive values - we are primarily interested in magnitude."
   ]
  },
  {
   "cell_type": "code",
   "execution_count": null,
   "metadata": {
    "scrolled": false
   },
   "outputs": [],
   "source": [
    "𝑉 = F₁.V"
   ]
  },
  {
   "cell_type": "code",
   "execution_count": null,
   "metadata": {},
   "outputs": [],
   "source": [
    "# Export CSV file of EigenVectors\n",
    "CSV.write(joinpath(data_path, \"pcRecipe.csv\"),DataFrame(𝑉))"
   ]
  },
  {
   "cell_type": "markdown",
   "metadata": {},
   "source": [
    "## Plotting"
   ]
  },
  {
   "cell_type": "code",
   "execution_count": null,
   "metadata": {
    "scrolled": true
   },
   "outputs": [],
   "source": [
    "plotlyjs()"
   ]
  },
  {
   "cell_type": "code",
   "execution_count": null,
   "metadata": {},
   "outputs": [],
   "source": [
    "gene_shapes = [:circle :rect :diamond :utriangle :dtriangle]"
   ]
  },
  {
   "cell_type": "markdown",
   "metadata": {},
   "source": [
    "### Two Dimensional Plot Arrays"
   ]
  },
  {
   "cell_type": "code",
   "execution_count": null,
   "metadata": {},
   "outputs": [],
   "source": [
    "gene_plots₂ = []\n",
    "type_plots₂ = []\n",
    "category_plots₂ = []\n",
    "for i ∈ 1:7, j ∈ 1:7\n",
    "    if i ≥ j \n",
    "        continue\n",
    "    end\n",
    "\n",
    "    V₁ = 𝑉[:,i];\n",
    "    V₂ = 𝑉[:,j];\n",
    "    a = convert(Matrix,df₁[:,2:8]) * V₁;\n",
    "    b = convert(Matrix,df₁[:,2:8]) * V₂;\n",
    "    \n",
    "    push!(gene_plots₂, scatter(a, b, group = df₁[:,10], \n",
    "                                size = (800,800),\n",
    "                                title =\"PC$i and PC$j\", \n",
    "                                xlabel=\"PC$i\", \n",
    "                                ylabel=\"PC$j\", \n",
    "                                hover = df₁.ScaffoldID,\n",
    "                                markersize = 6, \n",
    "                                markershape = gene_shapes,\n",
    "                                legend=:outerright))\n",
    "    push!(type_plots₂, scatter(a, b, group = df₁[:,11],\n",
    "                                size = (800,800), \n",
    "                                title =\"PC$i and PC$j\", \n",
    "                                xlabel=\"PC$i\", \n",
    "                                ylabel=\"PC$j\",\n",
    "                                hover = df₁.scaffolds,\n",
    "                                markersize = 6,\n",
    "                                markershape = gene_shapes,\n",
    "                                legend=:outerright))\n",
    "    push!(category_plots₂, scatter(a, b, group = df₁[:,12], \n",
    "                                size = (800,800), \n",
    "                                title =\"PC$i and PC$j\",\n",
    "                                xlabel=\"PC$i\", \n",
    "                                ylabel=\"PC$j\",\n",
    "                                hover = df₁.ScaffoldID,\n",
    "                                markersize = 6,\n",
    "                                markershape = gene_shapes,\n",
    "                                legend=:outerright))\n",
    "    \n",
    "end"
   ]
  },
  {
   "cell_type": "markdown",
   "metadata": {},
   "source": [
    "### Three Dimensional Plot Arrays"
   ]
  },
  {
   "cell_type": "code",
   "execution_count": null,
   "metadata": {},
   "outputs": [],
   "source": [
    "gene_plots₃ = []\n",
    "type_plots₃ = []\n",
    "category_plots₃ = []\n",
    "for i ∈ 1:7, j ∈ 1:7, k ∈ 1:7\n",
    "    if i ≥ j || j ≥ k \n",
    "        continue\n",
    "    end\n",
    "\n",
    "    V₁ = 𝑉[:,i];\n",
    "    V₂ = 𝑉[:,j];\n",
    "    V₃ = 𝑉[:,k];\n",
    "    a = convert(Matrix,df₁[:,2:8]) * V₁;\n",
    "    b = convert(Matrix,df₁[:,2:8]) * V₂;\n",
    "    c = convert(Matrix,df₁[:,2:8]) * V₃;\n",
    "    \n",
    "    push!(gene_plots₃, scatter(a, b, c, \n",
    "                                group = df₁[:,10],\n",
    "                                size = (800,800),\n",
    "                                title =\"PC$i, PC$j and PC$k\",\n",
    "                                xlabel=\"PC$i\", \n",
    "                                ylabel=\"PC$j\",\n",
    "                                zlabel=\"PC$k\", \n",
    "                                hover = df₁.ScaffoldID,\n",
    "                                markersize = 4, \n",
    "                                markershape = gene_shapes,\n",
    "                                legend=:outerright))\n",
    "    push!(type_plots₃, scatter(a, b, c, \n",
    "                                group = df₁[:,11], \n",
    "                                size = (800,800),\n",
    "                                title =\"PC$i, PC$j and PC$k\",\n",
    "                                xlabel=\"PC$i\", \n",
    "                                ylabel=\"PC$j\",\n",
    "                                zlabel=\"PC$k\",\n",
    "                                hover = df₁.scaffolds,\n",
    "                                markersize = 4,\n",
    "                                markershape = gene_shapes,\n",
    "                                legend=:outerright))\n",
    "    push!(category_plots₃, scatter(a, b, c, \n",
    "                                group = df₁[:,12],\n",
    "                                size = (800,800),\n",
    "                                title =\"PC$i, PC$j and PC$k\", \n",
    "                                xlabel=\"PC$i\",\n",
    "                                ylabel=\"PC$j\",\n",
    "                                zlabel=\"PC$k\", \n",
    "                                hover = df₁.ScaffoldID,\n",
    "                                markersize = 4,\n",
    "                                markershape = gene_shapes,\n",
    "                                legend=:outerright))\n",
    "    \n",
    "end"
   ]
  },
  {
   "cell_type": "markdown",
   "metadata": {},
   "source": [
    "## Gene Plots in Two Dimensions"
   ]
  },
  {
   "cell_type": "code",
   "execution_count": null,
   "metadata": {},
   "outputs": [],
   "source": [
    "i=1; # Make Slider"
   ]
  },
  {
   "cell_type": "code",
   "execution_count": null,
   "metadata": {},
   "outputs": [],
   "source": [
    "category_plots₂[i];"
   ]
  },
  {
   "cell_type": "code",
   "execution_count": null,
   "metadata": {},
   "outputs": [],
   "source": [
    "type_plots₂[i];"
   ]
  },
  {
   "cell_type": "code",
   "execution_count": null,
   "metadata": {},
   "outputs": [],
   "source": [
    "gene_plots₂[i];"
   ]
  },
  {
   "cell_type": "markdown",
   "metadata": {},
   "source": [
    "### Gene Plots in Three Dimensions"
   ]
  },
  {
   "cell_type": "code",
   "execution_count": null,
   "metadata": {},
   "outputs": [],
   "source": [
    "j=1;"
   ]
  },
  {
   "cell_type": "code",
   "execution_count": null,
   "metadata": {},
   "outputs": [],
   "source": [
    "category_plots₃[j];"
   ]
  },
  {
   "cell_type": "code",
   "execution_count": null,
   "metadata": {},
   "outputs": [],
   "source": [
    "type_plots₃[j];"
   ]
  },
  {
   "cell_type": "code",
   "execution_count": null,
   "metadata": {},
   "outputs": [],
   "source": [
    "gene_plots₃[j];"
   ]
  },
  {
   "cell_type": "markdown",
   "metadata": {},
   "source": [
    "### K-Means"
   ]
  },
  {
   "cell_type": "code",
   "execution_count": null,
   "metadata": {},
   "outputs": [],
   "source": [
    "dmat = pairwise(SqEuclidean(),transpose(matrix₁));\n",
    "fit = []\n",
    "\n",
    "for k ∈ 3:28\n",
    "    cluster = kmeans(transpose(matrix₁),k)\n",
    "    silResult = mean(silhouettes(cluster,dmat))\n",
    "    push!(fit, silResult) \n",
    "end"
   ]
  },
  {
   "cell_type": "code",
   "execution_count": null,
   "metadata": {},
   "outputs": [],
   "source": [
    "k_count = collect(3:28);\n",
    "k_fit = hcat(k_count, fit)"
   ]
  },
  {
   "cell_type": "code",
   "execution_count": null,
   "metadata": {
    "scrolled": false
   },
   "outputs": [],
   "source": [
    "k_cluster₃ = kmeans(transpose(matrix₁),3);\n",
    "k_cluster₄ = kmeans(transpose(matrix₁),4);\n",
    "k_cluster₆ = kmeans(transpose(matrix₁),6);\n",
    "k_cluster₇ = kmeans(transpose(matrix₁),7);"
   ]
  },
  {
   "cell_type": "code",
   "execution_count": null,
   "metadata": {},
   "outputs": [],
   "source": [
    "k_plot₃ = scatter(convert(Matrix,df₁[:,2:8]) * 𝑉[:,1],\n",
    "    convert(Matrix,df₁[:,2:8]) * 𝑉[:,2],\n",
    "    marker_z = k_cluster₃.assignments,\n",
    "    color =:rainbow,\n",
    "    size=(800,800),\n",
    "    markersize=8,\n",
    "    markershape = gene_shapes,\n",
    "    hover = df₁.ScaffoldID,\n",
    "    legend=:none,\n",
    "    title =\"PC 1 and PC 2 grouped by k-means clusters, k=3\",\n",
    "    xlabel=\"PC 1\", \n",
    "    ylabel=\"PC 2\",\n",
    "    )"
   ]
  },
  {
   "cell_type": "code",
   "execution_count": null,
   "metadata": {},
   "outputs": [],
   "source": [
    "k_plot₄ = scatter(convert(Matrix,df₁[:,2:8]) * 𝑉[:,1],\n",
    "    convert(Matrix,df₁[:,2:8]) * 𝑉[:,2],\n",
    "    marker_z = k_cluster₄.assignments,\n",
    "    color =:rainbow,\n",
    "    size=(800,800),\n",
    "    markersize=8,\n",
    "    markershape = gene_shapes,\n",
    "    hover = df₁.ScaffoldID,\n",
    "    legend=:none,\n",
    "    title =\"PC 1 and PC 2 grouped by k-means clusters, k=4\",\n",
    "    xlabel=\"PC 1\", \n",
    "    ylabel=\"PC 2\",\n",
    "    )"
   ]
  },
  {
   "cell_type": "code",
   "execution_count": null,
   "metadata": {},
   "outputs": [],
   "source": [
    "k_plot₆ = scatter(convert(Matrix,df₁[:,2:8]) * 𝑉[:,1],\n",
    "    convert(Matrix,df₁[:,2:8]) * 𝑉[:,2],\n",
    "    marker_z = k_cluster₆.assignments,\n",
    "    color =:rainbow,\n",
    "    size=(800,800),\n",
    "    markersize=8,\n",
    "    markershape = gene_shapes,\n",
    "    hover = df₁.ScaffoldID,\n",
    "    legend=:none,\n",
    "    title =\"PC 1 and PC 2 grouped by k-means clusters, k=6\",\n",
    "    xlabel=\"PC 1\", \n",
    "    ylabel=\"PC 2\",\n",
    "    )"
   ]
  },
  {
   "cell_type": "code",
   "execution_count": null,
   "metadata": {},
   "outputs": [],
   "source": [
    "k_plot₇ = scatter(convert(Matrix,df₁[:,2:8]) * 𝑉[:,1],\n",
    "    convert(Matrix,df₁[:,2:8]) * 𝑉[:,2],\n",
    "    marker_z = k_cluster₇.assignments,\n",
    "    color =:rainbow,\n",
    "    size=(800,800),\n",
    "    markersize=8,\n",
    "    markershape = gene_shapes,\n",
    "    hover = df₁.ScaffoldID,\n",
    "    legend=:none,\n",
    "    title =\"PC 1 and PC 2 grouped by k-means clusters, k=7\",\n",
    "    xlabel=\"PC 1\", \n",
    "    ylabel=\"PC 2\",\n",
    "    )"
   ]
  },
  {
   "cell_type": "code",
   "execution_count": null,
   "metadata": {},
   "outputs": [],
   "source": []
  }
 ],
 "metadata": {
  "@webio": {
   "lastCommId": null,
   "lastKernelId": null
  },
  "kernelspec": {
   "display_name": "Julia 1.6.1",
   "language": "julia",
   "name": "julia-1.6"
  },
  "language_info": {
   "file_extension": ".jl",
   "mimetype": "application/julia",
   "name": "julia",
   "version": "1.6.1"
  }
 },
 "nbformat": 4,
 "nbformat_minor": 4
}
